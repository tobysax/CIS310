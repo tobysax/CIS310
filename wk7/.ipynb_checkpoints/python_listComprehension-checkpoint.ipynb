{
 "cells": [
  {
   "cell_type": "markdown",
   "metadata": {},
   "source": [
    "# Toby Sax\n",
    "## week 7 - 10/3/23\n",
    "### Python List Comprehension"
   ]
  },
  {
   "cell_type": "markdown",
   "metadata": {},
   "source": [
    "**List comprehension Format:**\n",
    "\n",
    "<code> new_list = [expression for member in iterable] </code>\n",
    "\n",
    "**Using conditional Logic:**\n",
    "\n",
    "<code> new_list = [Expression for member in iterable (if conditional)</code>\n",
    "<code> new_list = [expression (if conditional) for member of iterable] </code>"
   ]
  },
  {
   "cell_type": "code",
   "execution_count": 5,
   "metadata": {},
   "outputs": [
    {
     "data": {
      "text/plain": [
       "['h', 'e', 'l', 'l', 'o', 'C', 'I', 'S', '3', '1', '0']"
      ]
     },
     "execution_count": 5,
     "metadata": {},
     "output_type": "execute_result"
    }
   ],
   "source": [
    "lst = []\n",
    "\n",
    "for letter in 'helloCIS310':\n",
    "    lst.append(letter)\n",
    "    \n",
    "lst"
   ]
  },
  {
   "cell_type": "code",
   "execution_count": 6,
   "metadata": {},
   "outputs": [],
   "source": [
    "#[expression for item in iterable]\n",
    "lst = [letter for letter in 'helloCIS310']"
   ]
  },
  {
   "cell_type": "code",
   "execution_count": 7,
   "metadata": {},
   "outputs": [
    {
     "data": {
      "text/plain": [
       "['h', 'e', 'l', 'l', 'o', 'C', 'I', 'S', '3', '1', '0']"
      ]
     },
     "execution_count": 7,
     "metadata": {},
     "output_type": "execute_result"
    }
   ],
   "source": [
    "lst"
   ]
  },
  {
   "cell_type": "code",
   "execution_count": 8,
   "metadata": {},
   "outputs": [
    {
     "data": {
      "text/plain": [
       "[0, 1, 4, 9, 16, 25, 36, 49, 64, 81, 100]"
      ]
     },
     "execution_count": 8,
     "metadata": {},
     "output_type": "execute_result"
    }
   ],
   "source": [
    "squares = []\n",
    "for n in range(0,11):\n",
    "    squares.append(n*n)\n",
    "    \n",
    "squares"
   ]
  },
  {
   "cell_type": "code",
   "execution_count": 9,
   "metadata": {},
   "outputs": [
    {
     "data": {
      "text/plain": [
       "[0, 1, 4, 9, 16, 25, 36, 49, 64, 81, 100]"
      ]
     },
     "execution_count": 9,
     "metadata": {},
     "output_type": "execute_result"
    }
   ],
   "source": [
    "squares = [n*n for n in range(0,11)]\n",
    "squares"
   ]
  },
  {
   "cell_type": "code",
   "execution_count": 15,
   "metadata": {},
   "outputs": [
    {
     "data": {
      "text/plain": [
       "[0, 4, 16, 36, 64, 100]"
      ]
     },
     "execution_count": 15,
     "metadata": {},
     "output_type": "execute_result"
    }
   ],
   "source": [
    "#[expression for member in iterable (if conditional)]\n",
    "squares = [n**2 for n in range(0,11) if (n%2 == 0)]\n",
    "squares"
   ]
  },
  {
   "cell_type": "code",
   "execution_count": 17,
   "metadata": {},
   "outputs": [
    {
     "data": {
      "text/plain": [
       "[0, 10, 20, 30, 40, 50, 60, 70, 80, 90, 100]"
      ]
     },
     "execution_count": 17,
     "metadata": {},
     "output_type": "execute_result"
    }
   ],
   "source": [
    "lst = [n for n in range(0,101) if (n%5==0 and n%2==0)]\n",
    "lst"
   ]
  },
  {
   "cell_type": "markdown",
   "metadata": {},
   "source": [
    "**The genreal format of Python while loops:**\n",
    "    \n",
    "<code>while test:\n",
    "        satements</code>\n",
    "    "
   ]
  },
  {
   "cell_type": "code",
   "execution_count": 22,
   "metadata": {},
   "outputs": [
    {
     "name": "stdout",
     "output_type": "stream",
     "text": [
      "1\n",
      "2\n",
      "3\n",
      "4\n",
      "5\n",
      "6\n"
     ]
    }
   ],
   "source": [
    "n=1\n",
    "while n<=6:\n",
    "    print(n)\n",
    "    n+=1"
   ]
  },
  {
   "cell_type": "code",
   "execution_count": 24,
   "metadata": {},
   "outputs": [
    {
     "name": "stdout",
     "output_type": "stream",
     "text": [
      "Sum =  55\n"
     ]
    }
   ],
   "source": [
    "n = 1\n",
    "s = 0\n",
    "while n<=10:\n",
    "    #print(n)\n",
    "    s += n\n",
    "    n+=1\n",
    "    \n",
    "print('Sum = ', s)"
   ]
  },
  {
   "cell_type": "code",
   "execution_count": 28,
   "metadata": {},
   "outputs": [
    {
     "name": "stdout",
     "output_type": "stream",
     "text": [
      "1\n",
      "2\n",
      "3\n",
      "4\n",
      "Sum = 65\n"
     ]
    }
   ],
   "source": [
    "lst = [1,2,3,4]\n",
    "n=0\n",
    "sum=0\n",
    "while n<len(lst):\n",
    "    print(lst[n])\n",
    "    s+=lst[n]\n",
    "    n+=1\n",
    "    \n",
    "print('Sum =',s)"
   ]
  },
  {
   "cell_type": "code",
   "execution_count": 29,
   "metadata": {},
   "outputs": [
    {
     "name": "stdout",
     "output_type": "stream",
     "text": [
      "0 is even number\n",
      "2 is even number\n",
      "4 is even number\n",
      "6 is even number\n",
      "8 is even number\n",
      "Sum of odd numbers =  25\n"
     ]
    }
   ],
   "source": [
    "n=0\n",
    "s=0\n",
    "while n<10:\n",
    "    #print(n)\n",
    "    if n%2 !=0:\n",
    "        s+=n\n",
    "    else:\n",
    "        print(f'{n} is even number')\n",
    "    n+=1\n",
    "\n",
    "print('Sum of odd numbers = ',s)"
   ]
  },
  {
   "cell_type": "code",
   "execution_count": 33,
   "metadata": {},
   "outputs": [
    {
     "name": "stdout",
     "output_type": "stream",
     "text": [
      "0 is even number\n",
      "2 is even number\n",
      "4 is even number\n",
      "6 is even number\n",
      "8 is even number\n",
      "Sum of odd number is 25!\n"
     ]
    }
   ],
   "source": [
    "n=0\n",
    "s=0\n",
    "while n<10:\n",
    "    #print(n)\n",
    "    if n%2 !=0:\n",
    "        s+=n\n",
    "    else:\n",
    "        print(f'{n} is even number')\n",
    "    n+=1\n",
    "\n",
    "print(f'Sum of odd number is {s}!')"
   ]
  },
  {
   "cell_type": "code",
   "execution_count": 35,
   "metadata": {},
   "outputs": [
    {
     "name": "stdout",
     "output_type": "stream",
     "text": [
      "c\n",
      "i\n",
      "s\n",
      "3\n",
      "1\n",
      "0\n",
      "D\n",
      "a\n",
      "t\n",
      "a\n",
      "A\n",
      "n\n",
      "a\n",
      "l\n",
      "y\n",
      "t\n",
      "i\n",
      "c\n",
      "s\n"
     ]
    }
   ],
   "source": [
    "a = 'cis310DataAnalytics'\n",
    "\n",
    "i = 0\n",
    "while i< len(a):\n",
    "    print(a[i])\n",
    "    i+=1"
   ]
  },
  {
   "cell_type": "code",
   "execution_count": 44,
   "metadata": {},
   "outputs": [
    {
     "name": "stdout",
     "output_type": "stream",
     "text": [
      "c i s 3 1 0 D a t a A n a l y t i c s "
     ]
    }
   ],
   "source": [
    "a = 'cis310DataAnalytics'\n",
    "\n",
    "i = 0\n",
    "while i< len(a):\n",
    "    print(a[i], end=\" \")\n",
    "    i+=1"
   ]
  },
  {
   "cell_type": "code",
   "execution_count": 45,
   "metadata": {},
   "outputs": [],
   "source": [
    "#continue means to skip this iteration\n",
    "#break stops the loop"
   ]
  },
  {
   "cell_type": "code",
   "execution_count": 47,
   "metadata": {},
   "outputs": [
    {
     "name": "stdout",
     "output_type": "stream",
     "text": [
      "c i s 3 "
     ]
    }
   ],
   "source": [
    "#break the loop as it sees a condition\n",
    "i = 0\n",
    "while i<len(a):\n",
    "    if a[i] == 'a' or a[i] == '1':\n",
    "        i+=1\n",
    "        break\n",
    "    print(a[i], end = ' ')\n",
    "    i+=1"
   ]
  },
  {
   "cell_type": "code",
   "execution_count": 49,
   "metadata": {},
   "outputs": [
    {
     "name": "stdout",
     "output_type": "stream",
     "text": [
      "c i s 3 0 D t A n l y t i c s "
     ]
    }
   ],
   "source": [
    "i = 0\n",
    "while i<len(a):\n",
    "    if a[i] == 'a' or a[i] == '1':\n",
    "        i+=1\n",
    "        continue\n",
    "    print(a[i], end = ' ')\n",
    "    i+=1"
   ]
  },
  {
   "cell_type": "code",
   "execution_count": 53,
   "metadata": {},
   "outputs": [
    {
     "name": "stdout",
     "output_type": "stream",
     "text": [
      "Enter a number (-1 to quit): 12\n",
      "Enter a number (-1 to quit): 13\n",
      "Enter a number (-1 to quit): 14\n",
      "Enter a number (-1 to quit): 15\n",
      "Enter a number (-1 to quit): 6\n",
      "Enter a number (-1 to quit): -1\n",
      "The sum of all values = 60\n"
     ]
    }
   ],
   "source": [
    "#loops based on the user input\n",
    "\n",
    "user_num = int(input('Enter a number (-1 to quit): '))\n",
    "\n",
    "s = 0\n",
    "while user_num != -1:\n",
    "    s+=user_num\n",
    "    user_num = int(input('Enter a number (-1 to quit): '))\n",
    "else:\n",
    "    print(f'The sum of all values = {s}')"
   ]
  },
  {
   "cell_type": "code",
   "execution_count": 56,
   "metadata": {},
   "outputs": [
    {
     "name": "stdout",
     "output_type": "stream",
     "text": [
      "red green blue purple "
     ]
    }
   ],
   "source": [
    "colors = ['red', 'green', 'blue', 'purple']\n",
    "\n",
    "i = 0\n",
    "while i<len(colors):\n",
    "    print(colors[i], end= \" \")\n",
    "    i+=1"
   ]
  },
  {
   "cell_type": "code",
   "execution_count": 2,
   "metadata": {},
   "outputs": [
    {
     "data": {
      "text/plain": [
       "['o', 'u', 'i', 'a', 'e', 'u', 'e', 'i', 'a', 'a', 'i', 'a', 'i', 'i']"
      ]
     },
     "execution_count": 2,
     "metadata": {},
     "output_type": "execute_result"
    }
   ],
   "source": [
    "sentence = 'CIS310 communicate students with analytical thinking'\n",
    "vowels_letters = 'aeiou'\n",
    "lst = [letter for letter in sentence if letter in vowels_letters]\n",
    "lst"
   ]
  },
  {
   "cell_type": "code",
   "execution_count": null,
   "metadata": {},
   "outputs": [],
   "source": [
    "#mistake cell"
   ]
  },
  {
   "cell_type": "code",
   "execution_count": 3,
   "metadata": {},
   "outputs": [
    {
     "data": {
      "text/plain": [
       "['t',\n",
       " 'u',\n",
       " 'd',\n",
       " 'i',\n",
       " 'e',\n",
       " 's',\n",
       " 'f',\n",
       " 'o',\n",
       " 'u',\n",
       " 'n',\n",
       " 'd',\n",
       " 't',\n",
       " 'h',\n",
       " 'a',\n",
       " 't',\n",
       " 't',\n",
       " 'h',\n",
       " 'e',\n",
       " 'f',\n",
       " 'i',\n",
       " 'n',\n",
       " 'a',\n",
       " 'n',\n",
       " 'c',\n",
       " 'i',\n",
       " 'a',\n",
       " 'l',\n",
       " 'i',\n",
       " 'm',\n",
       " 'p',\n",
       " 'a',\n",
       " 'c',\n",
       " 't',\n",
       " 'o',\n",
       " 'f',\n",
       " 't',\n",
       " 'h',\n",
       " 'e',\n",
       " 'p',\n",
       " 'o',\n",
       " 'o',\n",
       " 'r',\n",
       " 'q',\n",
       " 'u',\n",
       " 'a',\n",
       " 'l',\n",
       " 'i',\n",
       " 't',\n",
       " 'y',\n",
       " 'd',\n",
       " 'a',\n",
       " 't',\n",
       " 'a',\n",
       " 'c',\n",
       " 'o',\n",
       " 's',\n",
       " 't',\n",
       " 'r',\n",
       " 'i',\n",
       " 'l',\n",
       " 'l',\n",
       " 'i',\n",
       " 'o',\n",
       " 'n',\n",
       " 'm',\n",
       " 'i',\n",
       " 'n']"
      ]
     },
     "execution_count": 3,
     "metadata": {},
     "output_type": "execute_result"
    }
   ],
   "source": [
    "sentence = 'Studies found that the financial impact of the poor-quality data cost $3.1 Trillion min 2016'\n",
    "lst = [letter for letter in sentence if letter.isalpha() and letter.islower()]\n",
    "lst"
   ]
  },
  {
   "cell_type": "code",
   "execution_count": 4,
   "metadata": {},
   "outputs": [
    {
     "data": {
      "text/plain": [
       "['S', 'T']"
      ]
     },
     "execution_count": 4,
     "metadata": {},
     "output_type": "execute_result"
    }
   ],
   "source": [
    "lst = [letter for letter in sentence if letter.isalpha() and letter.isupper()]\n",
    "lst"
   ]
  },
  {
   "cell_type": "code",
   "execution_count": 11,
   "metadata": {},
   "outputs": [
    {
     "data": {
      "text/plain": [
       "[1.25, 0, 10.22, 3.78, 0, 1.16]"
      ]
     },
     "execution_count": 11,
     "metadata": {},
     "output_type": "execute_result"
    }
   ],
   "source": [
    "prices = [1.25, -9.45, 10.22, 3.78, -5.92, 1.16]\n",
    "new_prices = [value if value >=0 else 0 for value in prices]\n",
    "new_prices"
   ]
  },
  {
   "cell_type": "code",
   "execution_count": 13,
   "metadata": {},
   "outputs": [
    {
     "data": {
      "text/plain": [
       "['Even',\n",
       " 'Odd',\n",
       " 'Even',\n",
       " 'Odd',\n",
       " 'Even',\n",
       " 'Odd',\n",
       " 'Even',\n",
       " 'Odd',\n",
       " 'Even',\n",
       " 'Odd',\n",
       " 'Even']"
      ]
     },
     "execution_count": 13,
     "metadata": {},
     "output_type": "execute_result"
    }
   ],
   "source": [
    "lst = ['Even' if n%2==0 else 'Odd' for n in range(0,11)]\n",
    "lst"
   ]
  },
  {
   "cell_type": "code",
   "execution_count": 19,
   "metadata": {},
   "outputs": [
    {
     "data": {
      "text/plain": [
       "[1.1772000000000002, 25.4448, 62.467200000000005, 4.9248, 7.322400000000001]"
      ]
     },
     "execution_count": 19,
     "metadata": {},
     "output_type": "execute_result"
    }
   ],
   "source": [
    "txns = [1.09, 23.56, 57.84, 4.56, 6.78]\n",
    "TAX_RATE = .08\n",
    "final_price = [i * (1+ .08) for i in txns]\n",
    "final_price"
   ]
  },
  {
   "cell_type": "code",
   "execution_count": 21,
   "metadata": {},
   "outputs": [
    {
     "data": {
      "text/plain": [
       "[0, 4, 16, 36, 64, 100, 144, 196, 256, 324, 400]"
      ]
     },
     "execution_count": 21,
     "metadata": {},
     "output_type": "execute_result"
    }
   ],
   "source": [
    "#nested list comprehension\n",
    "lst = [n**2 for n in [num for num in range (21) if num%2==0]]\n",
    "lst"
   ]
  },
  {
   "cell_type": "code",
   "execution_count": 23,
   "metadata": {},
   "outputs": [
    {
     "data": {
      "text/plain": [
       "{'a', 'e', 'i', 'o', 'u'}"
      ]
     },
     "execution_count": 23,
     "metadata": {},
     "output_type": "execute_result"
    }
   ],
   "source": [
    "#using set and dictionary comprehensions\n",
    "s = 'data preparation consumes an amount of time (up to 80%) spent on analytics'\n",
    "unique_vowels = {l for l in s if l in 'aeiou'}\n",
    "unique_vowels"
   ]
  },
  {
   "cell_type": "code",
   "execution_count": 27,
   "metadata": {},
   "outputs": [
    {
     "data": {
      "text/plain": [
       "{0: 0, 1: 1, 2: 4, 3: 9, 4: 16, 5: 25, 6: 36, 7: 49, 8: 64, 9: 81, 10: 100}"
      ]
     },
     "execution_count": 27,
     "metadata": {},
     "output_type": "execute_result"
    }
   ],
   "source": [
    "dc = {n:n**2 for n in range(11)}\n",
    "dc"
   ]
  },
  {
   "cell_type": "code",
   "execution_count": 31,
   "metadata": {},
   "outputs": [
    {
     "data": {
      "text/plain": [
       "{'Austin': [50, 51, 52, 53, 54, 55, 56, 57, 58, 59, 60],\n",
       " 'Tacoma': [50, 51, 52, 53, 54, 55, 56, 57, 58, 59, 60],\n",
       " 'Topeka': [50, 51, 52, 53, 54, 55, 56, 57, 58, 59, 60],\n",
       " 'Sacramento': [50, 51, 52, 53, 54, 55, 56, 57, 58, 59, 60],\n",
       " 'Charlotte': [50, 51, 52, 53, 54, 55, 56, 57, 58, 59, 60]}"
      ]
     },
     "execution_count": 31,
     "metadata": {},
     "output_type": "execute_result"
    }
   ],
   "source": [
    "cities = ['Austin', 'Tacoma', 'Topeka', 'Sacramento', 'Charlotte']\n",
    "weather = {city:[n for n in range(50,61)] for city in cities}\n",
    "weather"
   ]
  },
  {
   "cell_type": "code",
   "execution_count": 34,
   "metadata": {},
   "outputs": [
    {
     "data": {
      "text/plain": [
       "{'Austin': 60, 'Tacoma': 51, 'Topeka': 58, 'Sacramento': 53, 'Charlotte': 56}"
      ]
     },
     "execution_count": 34,
     "metadata": {},
     "output_type": "execute_result"
    }
   ],
   "source": [
    "from random import randint\n",
    "\n",
    "cities = ['Austin', 'Tacoma', 'Topeka', 'Sacramento', 'Charlotte']\n",
    "weather = {city:randint(50,60) for city in cities}\n",
    "weather"
   ]
  },
  {
   "cell_type": "code",
   "execution_count": 51,
   "metadata": {},
   "outputs": [
    {
     "data": {
      "text/plain": [
       "['yes', 'no', 'yes', 'no', 'idle', 'idle', 'idle', 'idle', 'no']"
      ]
     },
     "execution_count": 51,
     "metadata": {},
     "output_type": "execute_result"
    }
   ],
   "source": [
    "l = [1,2,1,2,3,4,5,6,2]\n",
    "d = {1: 'yes', 2: 'no'}\n",
    "lst = [d.get(num, 'idle') for num in l]\n",
    "lst"
   ]
  },
  {
   "cell_type": "code",
   "execution_count": 52,
   "metadata": {},
   "outputs": [
    {
     "data": {
      "text/plain": [
       "'Idle'"
      ]
     },
     "execution_count": 52,
     "metadata": {},
     "output_type": "execute_result"
    }
   ],
   "source": [
    "d.get(5, 'Idle')"
   ]
  },
  {
   "cell_type": "code",
   "execution_count": 55,
   "metadata": {},
   "outputs": [
    {
     "data": {
      "text/plain": [
       "['yes', 'no', 'idle', 'idle', 'idle', 'no', 'idle', 'idle', 'yes', 'no', 'yes']"
      ]
     },
     "execution_count": 55,
     "metadata": {},
     "output_type": "execute_result"
    }
   ],
   "source": [
    "l = [1,2,3,4,5,2,3,4,1,2,1]\n",
    "lst = ['yes' if n ==1 else 'no' if n==2 else 'idle' for n in l]\n",
    "lst"
   ]
  },
  {
   "cell_type": "code",
   "execution_count": null,
   "metadata": {},
   "outputs": [],
   "source": []
  },
  {
   "cell_type": "code",
   "execution_count": null,
   "metadata": {},
   "outputs": [],
   "source": []
  }
 ],
 "metadata": {
  "kernelspec": {
   "display_name": "Python 3.7 - default",
   "language": "python",
   "name": "py37_default"
  },
  "language_info": {
   "codemirror_mode": {
    "name": "ipython",
    "version": 3
   },
   "file_extension": ".py",
   "mimetype": "text/x-python",
   "name": "python",
   "nbconvert_exporter": "python",
   "pygments_lexer": "ipython3",
   "version": "3.7.7"
  }
 },
 "nbformat": 4,
 "nbformat_minor": 4
}
