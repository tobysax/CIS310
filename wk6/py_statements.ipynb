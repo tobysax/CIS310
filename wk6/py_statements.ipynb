{
 "cells": [
  {
   "cell_type": "markdown",
   "metadata": {},
   "source": [
    "# Toby Sax\n",
    "## week 6 -9/26/23\n",
    "### Python Statments - [if, else, elif]"
   ]
  },
  {
   "cell_type": "markdown",
   "metadata": {},
   "source": [
    "** the format of the if-stmt**\n",
    "\n",
    "'''\n",
    "if conditional1:\n",
    "    perform action1\n",
    "elif condition2:\n",
    "    perform action2\n",
    "else:\n",
    "    perform action3\n",
    "'''"
   ]
  },
  {
   "cell_type": "code",
   "execution_count": 1,
   "metadata": {},
   "outputs": [
    {
     "name": "stdout",
     "output_type": "stream",
     "text": [
      "Hi Five!\n"
     ]
    }
   ],
   "source": [
    "#if statement\n",
    "value = 5\n",
    "if value == 5:\n",
    "    print('Hi Five!')"
   ]
  },
  {
   "cell_type": "code",
   "execution_count": 4,
   "metadata": {},
   "outputs": [],
   "source": [
    "value = 6\n",
    "if value == 5:\n",
    "    print('Hi Five!')"
   ]
  },
  {
   "cell_type": "code",
   "execution_count": 5,
   "metadata": {},
   "outputs": [
    {
     "name": "stdout",
     "output_type": "stream",
     "text": [
      "Lets try again!\n"
     ]
    }
   ],
   "source": [
    "#if-else statement\n",
    "value = 6\n",
    "if value == 5:\n",
    "    print('Hi Five!')\n",
    "else:\n",
    "    print(\"Lets try again!\")"
   ]
  },
  {
   "cell_type": "code",
   "execution_count": 7,
   "metadata": {},
   "outputs": [
    {
     "name": "stdout",
     "output_type": "stream",
     "text": [
      "Then, redo test2\n"
     ]
    }
   ],
   "source": [
    "test1 = 98\n",
    "test2 = 87\n",
    "\n",
    "if test1 < test2:\n",
    "    print('redo test1!')\n",
    "else:\n",
    "    print('Then, redo test2')"
   ]
  },
  {
   "cell_type": "code",
   "execution_count": 8,
   "metadata": {},
   "outputs": [
    {
     "name": "stdout",
     "output_type": "stream",
     "text": [
      "test1 is greater that test2\n",
      "You may think to redo test2!\n"
     ]
    }
   ],
   "source": [
    "#if-elif statement\n",
    "test1 = 81\n",
    "test2 = 79\n",
    "\n",
    "if test1 > test2:\n",
    "    print('test1 is greater that test2')\n",
    "    print(\"You may think to redo test2!\")\n",
    "elif test2 > test1:\n",
    "    print('test2 is greater than test1')\n",
    "    print('you may think about redoing test1, instead')\n",
    "else:\n",
    "    print('test1 and test2 scortes are equal!')"
   ]
  },
  {
   "cell_type": "code",
   "execution_count": 9,
   "metadata": {},
   "outputs": [
    {
     "name": "stdout",
     "output_type": "stream",
     "text": [
      "test2 is greater than test1\n",
      "you may think about redoing test1, instead\n"
     ]
    }
   ],
   "source": [
    "test1 = 81\n",
    "test2 = 89\n",
    "\n",
    "if test1 > test2:\n",
    "    print('test1 is greater that test2')\n",
    "    print(\"You may think to redo test2!\")\n",
    "elif test2 > test1:\n",
    "    print('test2 is greater than test1')\n",
    "    print('you may think about redoing test1, instead')\n",
    "else:\n",
    "    print('test1 and test2 scortes are equal!')"
   ]
  },
  {
   "cell_type": "code",
   "execution_count": 10,
   "metadata": {},
   "outputs": [
    {
     "name": "stdout",
     "output_type": "stream",
     "text": [
      "test1 and test2 scortes are equal!\n"
     ]
    }
   ],
   "source": [
    "test1 = 89\n",
    "test2 = 89\n",
    "\n",
    "if test1 > test2:\n",
    "    print('test1 is greater that test2')\n",
    "    print(\"You may think to redo test2!\")\n",
    "elif test2 > test1:\n",
    "    print('test2 is greater than test1')\n",
    "    print('you may think about redoing test1, instead')\n",
    "else:\n",
    "    print('test1 and test2 scortes are equal!')"
   ]
  },
  {
   "cell_type": "code",
   "execution_count": 15,
   "metadata": {},
   "outputs": [
    {
     "name": "stdout",
     "output_type": "stream",
     "text": [
      "Enter test1 score: 98\n",
      "Enter test2 score: 2\n",
      "test1 is greater that test2\n",
      "You may think to redo test2!\n"
     ]
    }
   ],
   "source": [
    "test1 = int(input('Enter test1 score: '))\n",
    "test2 = int(input('Enter test2 score: '))\n",
    "\n",
    "if test1 > test2:\n",
    "    print('test1 is greater that test2')\n",
    "    print(\"You may think to redo test2!\")\n",
    "elif test2 > test1:\n",
    "    print('test2 is greater than test1')\n",
    "    print('you may think about redoing test1, instead')\n",
    "else:\n",
    "    print('test1 and test2 scortes are equal!')"
   ]
  },
  {
   "cell_type": "code",
   "execution_count": 16,
   "metadata": {},
   "outputs": [
    {
     "name": "stdout",
     "output_type": "stream",
     "text": [
      "test1 is greater than test2\n"
     ]
    }
   ],
   "source": [
    "#short hand if statement\n",
    "if test1 > test2: print('test1 is greater than test2')"
   ]
  },
  {
   "cell_type": "code",
   "execution_count": 19,
   "metadata": {},
   "outputs": [
    {
     "name": "stdout",
     "output_type": "stream",
     "text": [
      "1\n",
      "2\n",
      "3\n"
     ]
    }
   ],
   "source": [
    "if 'C' in \"CIS310\": print('1'); print('2'); print('3')"
   ]
  },
  {
   "cell_type": "code",
   "execution_count": 20,
   "metadata": {},
   "outputs": [
    {
     "name": "stdout",
     "output_type": "stream",
     "text": [
      "test1\n"
     ]
    }
   ],
   "source": [
    "print('test1') if test1 > test2 else print('test2')"
   ]
  },
  {
   "cell_type": "code",
   "execution_count": 23,
   "metadata": {},
   "outputs": [
    {
     "name": "stdout",
     "output_type": "stream",
     "text": [
      "Lets go to the rec-center\n"
     ]
    }
   ],
   "source": [
    "raining = True\n",
    "print(\"Lets go to the\", 'beach' if not raining else 'rec-center')"
   ]
  },
  {
   "cell_type": "code",
   "execution_count": 24,
   "metadata": {},
   "outputs": [
    {
     "name": "stdout",
     "output_type": "stream",
     "text": [
      "Both conditions are evaluated to True!\n"
     ]
    }
   ],
   "source": [
    "# and Logical opoerator\n",
    "\n",
    "s1, s2, s3 = 89, 75, 92\n",
    "\n",
    "if (s1 > s2) and (s3 > s2): print('Both conditions are evaluated to True!')"
   ]
  },
  {
   "cell_type": "code",
   "execution_count": 25,
   "metadata": {},
   "outputs": [],
   "source": [
    "if (s1 < s2) and (s3 > s2): print('Both conditions are evaluated to True!')"
   ]
  },
  {
   "cell_type": "code",
   "execution_count": 28,
   "metadata": {},
   "outputs": [
    {
     "name": "stdout",
     "output_type": "stream",
     "text": [
      "One condition evaluated is True!\n"
     ]
    }
   ],
   "source": [
    "# or Logical operator\n",
    "\n",
    "if (s1 < s2) or (s3 > s2): print('One condition evaluated is True!')"
   ]
  },
  {
   "cell_type": "code",
   "execution_count": 34,
   "metadata": {},
   "outputs": [
    {
     "name": "stdout",
     "output_type": "stream",
     "text": [
      "smaller than 40\n"
     ]
    }
   ],
   "source": [
    "#Nested if statement\n",
    "s1 = 40\n",
    "\n",
    "if s1 > 40:\n",
    "    print('Above 40,')\n",
    "    if s1 > 50:\n",
    "        print('and also above 50!')\n",
    "    else:\n",
    "        print('but not above 50.')\n",
    "else:\n",
    "    print('smaller than 40')"
   ]
  },
  {
   "cell_type": "code",
   "execution_count": 35,
   "metadata": {},
   "outputs": [
    {
     "data": {
      "text/plain": [
       "'Hello Fred'"
      ]
     },
     "execution_count": 35,
     "metadata": {},
     "output_type": "execute_result"
    }
   ],
   "source": [
    "# EASY WAY TO USE BUILT IN FUYNCTIONS, IONSTEAD OF IF STATEMENT\n",
    "names = {'Fred': 'Hello Fred', 'Rama': 'Hello Rama', 'Joe': 'Hello Joe'}\n",
    "names['Fred']"
   ]
  },
  {
   "cell_type": "code",
   "execution_count": 36,
   "metadata": {},
   "outputs": [
    {
     "data": {
      "text/plain": [
       "'Hello Fred'"
      ]
     },
     "execution_count": 36,
     "metadata": {},
     "output_type": "execute_result"
    }
   ],
   "source": [
    "names.get('Fred')"
   ]
  },
  {
   "cell_type": "code",
   "execution_count": 37,
   "metadata": {},
   "outputs": [],
   "source": [
    "names.get('Lo')"
   ]
  },
  {
   "cell_type": "code",
   "execution_count": 39,
   "metadata": {},
   "outputs": [
    {
     "ename": "KeyError",
     "evalue": "'Lo'",
     "output_type": "error",
     "traceback": [
      "\u001b[1;31m---------------------------------------------------------------------------\u001b[0m",
      "\u001b[1;31mKeyError\u001b[0m                                  Traceback (most recent call last)",
      "\u001b[1;32m<ipython-input-39-a5af280b9bbf>\u001b[0m in \u001b[0;36m<module>\u001b[1;34m\u001b[0m\n\u001b[1;32m----> 1\u001b[1;33m \u001b[0mnames\u001b[0m\u001b[1;33m[\u001b[0m\u001b[1;34m'Lo'\u001b[0m\u001b[1;33m]\u001b[0m\u001b[1;33m\u001b[0m\u001b[1;33m\u001b[0m\u001b[0m\n\u001b[0m",
      "\u001b[1;31mKeyError\u001b[0m: 'Lo'"
     ]
    }
   ],
   "source": [
    "names['Lo']"
   ]
  },
  {
   "cell_type": "code",
   "execution_count": 40,
   "metadata": {},
   "outputs": [
    {
     "data": {
      "text/plain": [
       "'Hello Fred'"
      ]
     },
     "execution_count": 40,
     "metadata": {},
     "output_type": "execute_result"
    }
   ],
   "source": [
    "names.get('Fred', 'Who are you?')"
   ]
  },
  {
   "cell_type": "code",
   "execution_count": 41,
   "metadata": {},
   "outputs": [
    {
     "data": {
      "text/plain": [
       "'Who are you?'"
      ]
     },
     "execution_count": 41,
     "metadata": {},
     "output_type": "execute_result"
    }
   ],
   "source": [
    "names.get('Brad', 'Who are you?')"
   ]
  },
  {
   "cell_type": "code",
   "execution_count": null,
   "metadata": {},
   "outputs": [],
   "source": []
  }
 ],
 "metadata": {
  "kernelspec": {
   "display_name": "Python 3.7 - default",
   "language": "python",
   "name": "py37_default"
  },
  "language_info": {
   "codemirror_mode": {
    "name": "ipython",
    "version": 3
   },
   "file_extension": ".py",
   "mimetype": "text/x-python",
   "name": "python",
   "nbconvert_exporter": "python",
   "pygments_lexer": "ipython3",
   "version": "3.7.7"
  }
 },
 "nbformat": 4,
 "nbformat_minor": 4
}
