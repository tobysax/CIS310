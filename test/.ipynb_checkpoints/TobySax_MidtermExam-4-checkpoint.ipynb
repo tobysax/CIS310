{
 "cells": [
  {
   "cell_type": "markdown",
   "metadata": {},
   "source": [
    "# Instructions:\n",
    "\n",
    "1) Rename this .ipynb file with your first and last name\n",
    "\n",
    "2) Complete the exam info form\n",
    "\n",
    "3) Answer all the questions\n",
    "\n",
    "4) Upload this file into Canvas as your submisison file\n",
    "\n",
    "**Do not upload/push this file into your GitHub account**"
   ]
  },
  {
   "cell_type": "markdown",
   "metadata": {},
   "source": [
    "# Complete the file info form:\n",
    "\n",
    "Your Full Name: Toby Sax\n",
    "\n",
    "Your CSU ID: 833216945\n",
    "\n",
    "Date: 10/19/2023\n"
   ]
  },
  {
   "cell_type": "markdown",
   "metadata": {},
   "source": [
    "## Q1:\n",
    "\n",
    "(Submit for 3 points) Write a python code whose input is two integers. Output the first integer and subsequent increments of 5 as long as the value is less than or equal to the second integer.\n",
    "\n",
    "**Sample Input/Output:**: \n",
    "\n",
    "Ex: If the input is:\n",
    "\n",
    "num1 = -15\n",
    "\n",
    "num2 = 10\n",
    "\n",
    "the output is:\n",
    "\n",
    "-15 -10 -5 0 5 10 \n",
    "\n",
    "*Ex: If the second integer is less than the first as in:\n",
    "\n",
    "num1 = 20\n",
    "\n",
    "num2 = 5\n",
    "\n",
    "the output is:\n",
    "\n",
    "Second integer can't be less than the first.\n",
    "\n",
    "\n",
    "**Hint:**\n",
    "\n",
    "- Use the built input() function to receive input from the user\n",
    "- Use the for loop to print all nubers beween num1 and num2\n",
    "- Use the built in range() method inside to for loop with appropriate start, end, and step values\n",
    "- Use the if stament to check if num2 is greater than num1\n",
    "\n"
   ]
  },
  {
   "cell_type": "code",
   "execution_count": 1,
   "metadata": {},
   "outputs": [],
   "source": [
    "#Q1 Answer - Complete the following code\n",
    "\n",
    "#Input and output the value of num1 and num2\n",
    "\n",
    "# Use if-elsel statment to check that num2 < num1, if this true, output the appropriate message and stop\n",
    "# else, use for loop to output the first integer and subsequent increments of 5 as long as the value is less than or equal to the second integer\n",
    "# use the range() method to complete this task\n"
   ]
  },
  {
   "cell_type": "markdown",
   "metadata": {},
   "source": [
    "## Q2:\n",
    "\n",
    "(Submit for 3 points) Prompt the user for an automobile service type, the display the user input and the cost of service.\n",
    "\n",
    "The program should support the following services (all integers):\n",
    "\n",
    "- Oil change - $35\n",
    "\n",
    "- Tire rotation -- $19 \n",
    "\n",
    "- Car wash -- $7\n",
    "\n",
    "If the user enters a service that is not listed above, then output the following error message:\n",
    "\n",
    "- Error: Requested service is not recognized\n",
    "\n",
    "**Sample Input/Output**\n",
    "\n",
    "Enter desired auto service:\n",
    "\n",
    "Oil change\n",
    "\n",
    "You entered: Oil change\n",
    "\n",
    "Cost of oil change: $35\n",
    "\n",
    "**Hint:**\n",
    "\n",
    "- Use the if stament to identify the auto service type based on the service name\n",
    "\n",
    "- Use the built input() function to receive input from the user\n"
   ]
  },
  {
   "cell_type": "code",
   "execution_count": 2,
   "metadata": {},
   "outputs": [],
   "source": [
    "#Q2 Answer - Complete the following code\n",
    "\n",
    "# Dictionary of service type and cost per service\n",
    "service_cost = {\n",
    "   'Oil change': 35,\n",
    "   'Tire rotation': 19,\n",
    "   'Car wash': 7\n",
    "}\n",
    "\n",
    "# Input and output the the required service choice - service_choice\n",
    "\n",
    "\n",
    "# Compute and output the service cost using the provided dictionary using if statement\n",
    "\n"
   ]
  },
  {
   "cell_type": "markdown",
   "metadata": {},
   "source": [
    "## Q3\n",
    "\n",
    "(Submit for 3 points). Write a Python function that accepts a string and calculates the number of upper case letters and lower case letters.\n",
    "\n",
    "\n",
    "Sample String : 'Hello Mr. Rogers, how are you this fine Tuesday?'\n",
    "\n",
    "Expected Output :\n",
    "\n",
    "No. of Upper case characters : 4\n",
    "\n",
    "No. of Lower case Characters : 33\n",
    "\n",
    "**Hint:**\n",
    "\n",
    "- Use Character built-in Functions, isupper() and islower(), to test whether a character is uppercase or lowercase!\n"
   ]
  },
  {
   "cell_type": "code",
   "execution_count": 4,
   "metadata": {},
   "outputs": [],
   "source": [
    "#Q3 Answer - Complete the following code\n",
    "def up_low(s):\n",
    "    # Complete the code of the function\n",
    "    \n",
    "\n",
    "\n",
    "# call the function to test with the following data: \n",
    "s = 'Hello Mr. Rogers, how are you this fine Tuesday?'\n"
   ]
  },
  {
   "cell_type": "markdown",
   "metadata": {},
   "source": [
    "## Q4\n",
    "\n",
    "(Submit for 3 points) Assume that we have a list of tuples for people information, (First Name, Last Name, Month and Day of birth) as follows:\n",
    "\n",
    "<code> people = [(\"Michele\", \"Vallisneri\", \"July 15\"),\n",
    "          (\"Albert\", \"Einstein\", \"March 14\"),\n",
    "          (\"John\", \"Lennon\", \"October 9\"),\n",
    "          (\"Jocelyn\", \"Bell Burnell\", \"July 15\")] <code/>\n",
    "    \n",
    "\n",
    "\n",
    "Use list comperhension to creat a new list of dictionaries for each tuple, such as:\n",
    "\n",
    "\n",
    "<code>  [{'fName': 'Michele', 'lName': 'Vallisneri', 'mdBirth': 'July 15'},\n",
    "         {'fName': 'Albert', 'lName': 'Einstein', 'mdBirth': 'March 14'},\n",
    "         {'fName': 'John', 'lName': 'Lennon', 'mdBirth': 'October 9'},\n",
    "         {'fName': 'Jocelyn', 'lName': 'Bell Burnell', 'mdBirth': 'July 15'}] <code/>.\n",
    "    \n",
    "    \n",
    "**Hint:**\n",
    "    \n",
    "- Use the list comprehension expression to answer this question: <code> new_list = [expression for member in iterable<code/>\n",
    "- Note that the keys in the dictionary are {'Key1':Value1, 'Key2':Values, 'Key3':Value3}, and values are filled from the tuples in the list\n",
    " "
   ]
  },
  {
   "cell_type": "code",
   "execution_count": 5,
   "metadata": {},
   "outputs": [],
   "source": [
    "#Q4 Answer - Complete the following code\n",
    "\n",
    "\n",
    "\n",
    "#check your answer"
   ]
  },
  {
   "cell_type": "markdown",
   "metadata": {},
   "source": [
    "## Q5\n",
    "\n",
    "(Submit for 3 points) Assume that we have the following list of dictionaries for the book information:\n",
    "\n",
    "<code> \n",
    "    books = [ {\"Title\":\"Angels and Demons\", \"Author\":\"Dan Brown\", \"Price\":500},\n",
    "              {\"Title\":\"Gone Girl\", \"Author\":\"Gillian Flynn\", \"Price\":730},\n",
    "              {\"Title\":\"The Silent Patient\", \"Author\":\"Alex Michaelidis\", \"Price\":945},\n",
    "              {\"Title\":\"Before I Go To Sleep\", \"Author\":\"S.J Watson\", \"Price\":400} ] <code/>\n",
    "    \n",
    "    \n",
    "Use **lambda** and higher order function **filter()** to generate a new list with the books that are greater than 500,  such as  \n",
    "\n",
    "\n",
    "<code>new_books = [ {'Title': 'Gone Girl', 'Author': 'Gillian Flynn', 'Price': 730},\n",
    "        {'Title': 'The Silent Patient', 'Author': 'Alex Michaelidis', 'Price': 945}] <code/>\n",
    "    \n",
    "\n",
    "**Hint:**\n",
    "\n",
    "- Use the filter() function with lambda inside it to create the list of the new_books: <code > filter(lambda arguments : expression , books) <code/>"
   ]
  },
  {
   "cell_type": "code",
   "execution_count": 6,
   "metadata": {},
   "outputs": [],
   "source": [
    "#Q5 Answer - Complete the following code\n",
    "\n",
    "\n",
    "\n",
    "#check your answer"
   ]
  }
 ],
 "metadata": {
  "kernelspec": {
   "display_name": "Python 3",
   "language": "python",
   "name": "python3"
  },
  "language_info": {
   "codemirror_mode": {
    "name": "ipython",
    "version": 3
   },
   "file_extension": ".py",
   "mimetype": "text/x-python",
   "name": "python",
   "nbconvert_exporter": "python",
   "pygments_lexer": "ipython3",
   "version": "3.7.7"
  }
 },
 "nbformat": 4,
 "nbformat_minor": 2
}
