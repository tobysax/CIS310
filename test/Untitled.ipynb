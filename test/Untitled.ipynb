{
 "cells": [
  {
   "cell_type": "code",
   "execution_count": 1,
   "metadata": {},
   "outputs": [
    {
     "name": "stdout",
     "output_type": "stream",
     "text": [
      "1 chairs\n",
      "1 tables\n",
      "2 chairs\n",
      "2 tables\n"
     ]
    }
   ],
   "source": [
    "for x in [1,2]:\n",
    "    for y in [\"chairs\",\"tables\"]:\n",
    "        print(x,y)"
   ]
  },
  {
   "cell_type": "code",
   "execution_count": 4,
   "metadata": {},
   "outputs": [],
   "source": [
    "l = [1,2,3,4,5]"
   ]
  },
  {
   "cell_type": "code",
   "execution_count": 5,
   "metadata": {},
   "outputs": [
    {
     "data": {
      "text/plain": [
       "5"
      ]
     },
     "execution_count": 5,
     "metadata": {},
     "output_type": "execute_result"
    }
   ],
   "source": [
    "l.pop()"
   ]
  },
  {
   "cell_type": "code",
   "execution_count": 6,
   "metadata": {},
   "outputs": [
    {
     "data": {
      "text/plain": [
       "[1, 2, 3, 4]"
      ]
     },
     "execution_count": 6,
     "metadata": {},
     "output_type": "execute_result"
    }
   ],
   "source": [
    "l"
   ]
  },
  {
   "cell_type": "code",
   "execution_count": 25,
   "metadata": {},
   "outputs": [
    {
     "ename": "KeyError",
     "evalue": "1",
     "output_type": "error",
     "traceback": [
      "\u001b[1;31m---------------------------------------------------------------------------\u001b[0m",
      "\u001b[1;31mKeyError\u001b[0m                                  Traceback (most recent call last)",
      "\u001b[1;32m<ipython-input-25-60b41ca9c7c5>\u001b[0m in \u001b[0;36m<module>\u001b[1;34m\u001b[0m\n\u001b[0;32m      5\u001b[0m }\n\u001b[0;32m      6\u001b[0m \u001b[1;33m\u001b[0m\u001b[0m\n\u001b[1;32m----> 7\u001b[1;33m \u001b[0mservice_cost\u001b[0m\u001b[1;33m[\u001b[0m\u001b[1;36m1\u001b[0m\u001b[1;33m]\u001b[0m\u001b[1;33m\u001b[0m\u001b[1;33m\u001b[0m\u001b[0m\n\u001b[0m",
      "\u001b[1;31mKeyError\u001b[0m: 1"
     ]
    }
   ],
   "source": [
    "service_cost = {\n",
    "   'Oil change': 35,\n",
    "   'Tire rotation': 19,\n",
    "   'Car wash': 7\n",
    "}\n",
    "\n",
    "service_cost[1]"
   ]
  },
  {
   "cell_type": "code",
   "execution_count": 26,
   "metadata": {},
   "outputs": [
    {
     "name": "stdout",
     "output_type": "stream",
     "text": [
      "Enter desired auto service:Oil change\n",
      "You Entered: Oil change\n",
      "Cost of oil change: $35\n"
     ]
    }
   ],
   "source": [
    "#Q2 Answer - Complete the following code\n",
    "\n",
    "# Dictionary of service type and cost per service\n",
    "service_cost = {\n",
    "   'Oil change': 35,\n",
    "   'Tire rotation': 19,\n",
    "   'Car wash': 7\n",
    "}\n",
    "\n",
    "# Input and output the the required service choice - service_choice\n",
    "\n",
    "service_choice = input(\"Enter desired auto service: \")\n",
    "\n",
    "# Compute and output the service cost using the provided dictionary using if statement\n",
    "if service_choice == 'Oil change':\n",
    "    print('You Entered: Oil change')\n",
    "    print('Cost of oil change: $35')\n",
    "elif service_choice == 'Tire rotation':\n",
    "    print('You Entered: Tire rotation')\n",
    "    print('Cost of Tire rotation: $19')\n",
    "elif service_choice == 'Car wash':\n",
    "    print('You Entered: Car wash')\n",
    "    print('Cost of Car wash: $7')\n",
    "else:\n",
    "    print('Requested service is not recognized')\n"
   ]
  },
  {
   "cell_type": "code",
   "execution_count": null,
   "metadata": {},
   "outputs": [],
   "source": [
    "num1 = int(input())\n",
    "num2 = int(input())\n",
    "\n",
    "if num2 < num1:\n",
    "    print('Secound integer can not be less than the first')\n",
    "else:\n",
    "    for n in range(num2):\n",
    "        print(num1)\n",
    "        num1 += 5\n"
   ]
  },
  {
   "cell_type": "code",
   "execution_count": 29,
   "metadata": {},
   "outputs": [
    {
     "name": "stdout",
     "output_type": "stream",
     "text": [
      "-15\n",
      "-10\n",
      "-5\n",
      "0\n",
      "5\n",
      "10\n",
      "15\n",
      "20\n",
      "25\n",
      "30\n"
     ]
    }
   ],
   "source": [
    "n1 = -15\n",
    "n2 = 10\n",
    "\n",
    "for n in range(n2):\n",
    "    print(n1)\n",
    "    n1 = n1 + 5"
   ]
  },
  {
   "cell_type": "code",
   "execution_count": null,
   "metadata": {},
   "outputs": [],
   "source": []
  }
 ],
 "metadata": {
  "kernelspec": {
   "display_name": "Python 3.7 - default",
   "language": "python",
   "name": "py37_default"
  },
  "language_info": {
   "codemirror_mode": {
    "name": "ipython",
    "version": 3
   },
   "file_extension": ".py",
   "mimetype": "text/x-python",
   "name": "python",
   "nbconvert_exporter": "python",
   "pygments_lexer": "ipython3",
   "version": "3.7.7"
  }
 },
 "nbformat": 4,
 "nbformat_minor": 4
}
